{
  "nbformat": 4,
  "nbformat_minor": 0,
  "metadata": {
    "colab": {
      "name": "exercises_pandas.ipynb",
      "provenance": [],
      "collapsed_sections": [],
      "authorship_tag": "ABX9TyNgZd+nfWUsDb4BCWL1tfbd",
      "include_colab_link": true
    },
    "kernelspec": {
      "name": "python3",
      "display_name": "Python 3"
    },
    "language_info": {
      "name": "python"
    }
  },
  "cells": [
    {
      "cell_type": "markdown",
      "metadata": {
        "id": "view-in-github",
        "colab_type": "text"
      },
      "source": [
        "<a href=\"https://colab.research.google.com/github/khalidpark/pandas_exercises/blob/master/exercises_pandas.ipynb\" target=\"_parent\"><img src=\"https://colab.research.google.com/assets/colab-badge.svg\" alt=\"Open In Colab\"/></a>"
      ]
    },
    {
      "cell_type": "code",
      "metadata": {
        "id": "_kf2hzYbXKe3"
      },
      "source": [
        "import pandas as pd"
      ],
      "execution_count": 1,
      "outputs": []
    },
    {
      "cell_type": "code",
      "metadata": {
        "id": "3T5LZK2TXfrY"
      },
      "source": [
        "DataUrl = 'https://raw.githubusercontent.com/Datamanim/pandas/main/lol.csv'"
      ],
      "execution_count": 3,
      "outputs": []
    },
    {
      "cell_type": "markdown",
      "metadata": {
        "id": "8JDWfZfLXaGn"
      },
      "source": [
        "출처 : https://www.datamanim.com/dataset/99_pandas/pandasMain.html"
      ]
    },
    {
      "cell_type": "markdown",
      "metadata": {
        "id": "qxz5x6pzXkoA"
      },
      "source": [
        "데이터를 로드하라. 데이터는 \\t을 기준으로 구분되어있다.\n",
        "\n"
      ]
    },
    {
      "cell_type": "code",
      "metadata": {
        "id": "B-W6FiDuXkRv"
      },
      "source": [
        "df = pd.read_csv(DataUrl,sep='\\t')"
      ],
      "execution_count": 5,
      "outputs": []
    },
    {
      "cell_type": "markdown",
      "metadata": {
        "id": "TVc1_P_1XvKQ"
      },
      "source": [
        "데이터의 상위 5개 행을 출력하라\n",
        "\n"
      ]
    },
    {
      "cell_type": "code",
      "metadata": {
        "colab": {
          "base_uri": "https://localhost:8080/",
          "height": 224
        },
        "id": "nSborla0Xwqv",
        "outputId": "c0246849-7993-4edf-8e3e-3038cde64dd2"
      },
      "source": [
        "df.head(5)\n"
      ],
      "execution_count": 16,
      "outputs": [
        {
          "output_type": "execute_result",
          "data": {
            "text/html": [
              "<div>\n",
              "<style scoped>\n",
              "    .dataframe tbody tr th:only-of-type {\n",
              "        vertical-align: middle;\n",
              "    }\n",
              "\n",
              "    .dataframe tbody tr th {\n",
              "        vertical-align: top;\n",
              "    }\n",
              "\n",
              "    .dataframe thead th {\n",
              "        text-align: right;\n",
              "    }\n",
              "</style>\n",
              "<table border=\"1\" class=\"dataframe\">\n",
              "  <thead>\n",
              "    <tr style=\"text-align: right;\">\n",
              "      <th></th>\n",
              "      <th>gameId</th>\n",
              "      <th>creationTime</th>\n",
              "      <th>gameDuration</th>\n",
              "      <th>seasonId</th>\n",
              "      <th>winner</th>\n",
              "      <th>firstBlood</th>\n",
              "      <th>firstTower</th>\n",
              "      <th>firstInhibitor</th>\n",
              "      <th>firstBaron</th>\n",
              "      <th>firstDragon</th>\n",
              "      <th>firstRiftHerald</th>\n",
              "      <th>t1_champ1id</th>\n",
              "      <th>t1_champ1_sum1</th>\n",
              "      <th>t1_champ1_sum2</th>\n",
              "      <th>t1_champ2id</th>\n",
              "      <th>t1_champ2_sum1</th>\n",
              "      <th>t1_champ2_sum2</th>\n",
              "      <th>t1_champ3id</th>\n",
              "      <th>t1_champ3_sum1</th>\n",
              "      <th>t1_champ3_sum2</th>\n",
              "      <th>t1_champ4id</th>\n",
              "      <th>t1_champ4_sum1</th>\n",
              "      <th>t1_champ4_sum2</th>\n",
              "      <th>t1_champ5id</th>\n",
              "      <th>t1_champ5_sum1</th>\n",
              "      <th>t1_champ5_sum2</th>\n",
              "      <th>t1_towerKills</th>\n",
              "      <th>t1_inhibitorKills</th>\n",
              "      <th>t1_baronKills</th>\n",
              "      <th>t1_dragonKills</th>\n",
              "      <th>t1_riftHeraldKills</th>\n",
              "      <th>t1_ban1</th>\n",
              "      <th>t1_ban2</th>\n",
              "      <th>t1_ban3</th>\n",
              "      <th>t1_ban4</th>\n",
              "      <th>t1_ban5</th>\n",
              "      <th>t2_champ1id</th>\n",
              "      <th>t2_champ1_sum1</th>\n",
              "      <th>t2_champ1_sum2</th>\n",
              "      <th>t2_champ2id</th>\n",
              "      <th>t2_champ2_sum1</th>\n",
              "      <th>t2_champ2_sum2</th>\n",
              "      <th>t2_champ3id</th>\n",
              "      <th>t2_champ3_sum1</th>\n",
              "      <th>t2_champ3_sum2</th>\n",
              "      <th>t2_champ4id</th>\n",
              "      <th>t2_champ4_sum1</th>\n",
              "      <th>t2_champ4_sum2</th>\n",
              "      <th>t2_champ5id</th>\n",
              "      <th>t2_champ5_sum1</th>\n",
              "      <th>t2_champ5_sum2</th>\n",
              "      <th>t2_towerKills</th>\n",
              "      <th>t2_inhibitorKills</th>\n",
              "      <th>t2_baronKills</th>\n",
              "      <th>t2_dragonKills</th>\n",
              "      <th>t2_riftHeraldKills</th>\n",
              "      <th>t2_ban1</th>\n",
              "      <th>t2_ban2</th>\n",
              "      <th>t2_ban3</th>\n",
              "      <th>t2_ban4</th>\n",
              "      <th>t2_ban5</th>\n",
              "    </tr>\n",
              "  </thead>\n",
              "  <tbody>\n",
              "    <tr>\n",
              "      <th>0</th>\n",
              "      <td>3326086514</td>\n",
              "      <td>1504279457970</td>\n",
              "      <td>1949</td>\n",
              "      <td>9</td>\n",
              "      <td>1</td>\n",
              "      <td>2</td>\n",
              "      <td>1</td>\n",
              "      <td>1</td>\n",
              "      <td>1</td>\n",
              "      <td>1</td>\n",
              "      <td>2</td>\n",
              "      <td>8</td>\n",
              "      <td>12</td>\n",
              "      <td>4</td>\n",
              "      <td>432</td>\n",
              "      <td>3</td>\n",
              "      <td>4</td>\n",
              "      <td>96</td>\n",
              "      <td>4</td>\n",
              "      <td>7</td>\n",
              "      <td>11</td>\n",
              "      <td>11</td>\n",
              "      <td>6</td>\n",
              "      <td>112</td>\n",
              "      <td>4</td>\n",
              "      <td>14</td>\n",
              "      <td>11</td>\n",
              "      <td>1</td>\n",
              "      <td>2</td>\n",
              "      <td>3</td>\n",
              "      <td>0</td>\n",
              "      <td>92</td>\n",
              "      <td>40</td>\n",
              "      <td>69</td>\n",
              "      <td>119</td>\n",
              "      <td>141</td>\n",
              "      <td>104</td>\n",
              "      <td>11</td>\n",
              "      <td>4</td>\n",
              "      <td>498</td>\n",
              "      <td>4</td>\n",
              "      <td>7</td>\n",
              "      <td>122</td>\n",
              "      <td>6</td>\n",
              "      <td>4</td>\n",
              "      <td>238</td>\n",
              "      <td>14</td>\n",
              "      <td>4</td>\n",
              "      <td>412</td>\n",
              "      <td>4</td>\n",
              "      <td>3</td>\n",
              "      <td>5</td>\n",
              "      <td>0</td>\n",
              "      <td>0</td>\n",
              "      <td>1</td>\n",
              "      <td>1</td>\n",
              "      <td>114</td>\n",
              "      <td>67</td>\n",
              "      <td>43</td>\n",
              "      <td>16</td>\n",
              "      <td>51</td>\n",
              "    </tr>\n",
              "    <tr>\n",
              "      <th>1</th>\n",
              "      <td>3229566029</td>\n",
              "      <td>1497848803862</td>\n",
              "      <td>1851</td>\n",
              "      <td>9</td>\n",
              "      <td>1</td>\n",
              "      <td>1</td>\n",
              "      <td>1</td>\n",
              "      <td>1</td>\n",
              "      <td>0</td>\n",
              "      <td>1</td>\n",
              "      <td>1</td>\n",
              "      <td>119</td>\n",
              "      <td>7</td>\n",
              "      <td>4</td>\n",
              "      <td>39</td>\n",
              "      <td>12</td>\n",
              "      <td>4</td>\n",
              "      <td>76</td>\n",
              "      <td>4</td>\n",
              "      <td>3</td>\n",
              "      <td>10</td>\n",
              "      <td>4</td>\n",
              "      <td>14</td>\n",
              "      <td>35</td>\n",
              "      <td>4</td>\n",
              "      <td>11</td>\n",
              "      <td>10</td>\n",
              "      <td>4</td>\n",
              "      <td>0</td>\n",
              "      <td>2</td>\n",
              "      <td>1</td>\n",
              "      <td>51</td>\n",
              "      <td>122</td>\n",
              "      <td>17</td>\n",
              "      <td>498</td>\n",
              "      <td>19</td>\n",
              "      <td>54</td>\n",
              "      <td>4</td>\n",
              "      <td>12</td>\n",
              "      <td>25</td>\n",
              "      <td>4</td>\n",
              "      <td>14</td>\n",
              "      <td>120</td>\n",
              "      <td>11</td>\n",
              "      <td>4</td>\n",
              "      <td>157</td>\n",
              "      <td>4</td>\n",
              "      <td>14</td>\n",
              "      <td>92</td>\n",
              "      <td>4</td>\n",
              "      <td>7</td>\n",
              "      <td>2</td>\n",
              "      <td>0</td>\n",
              "      <td>0</td>\n",
              "      <td>0</td>\n",
              "      <td>0</td>\n",
              "      <td>11</td>\n",
              "      <td>67</td>\n",
              "      <td>238</td>\n",
              "      <td>51</td>\n",
              "      <td>420</td>\n",
              "    </tr>\n",
              "    <tr>\n",
              "      <th>2</th>\n",
              "      <td>3327363504</td>\n",
              "      <td>1504360103310</td>\n",
              "      <td>1493</td>\n",
              "      <td>9</td>\n",
              "      <td>1</td>\n",
              "      <td>2</td>\n",
              "      <td>1</td>\n",
              "      <td>1</td>\n",
              "      <td>1</td>\n",
              "      <td>2</td>\n",
              "      <td>0</td>\n",
              "      <td>18</td>\n",
              "      <td>4</td>\n",
              "      <td>7</td>\n",
              "      <td>141</td>\n",
              "      <td>11</td>\n",
              "      <td>4</td>\n",
              "      <td>267</td>\n",
              "      <td>3</td>\n",
              "      <td>4</td>\n",
              "      <td>68</td>\n",
              "      <td>4</td>\n",
              "      <td>12</td>\n",
              "      <td>38</td>\n",
              "      <td>12</td>\n",
              "      <td>4</td>\n",
              "      <td>8</td>\n",
              "      <td>1</td>\n",
              "      <td>1</td>\n",
              "      <td>1</td>\n",
              "      <td>0</td>\n",
              "      <td>117</td>\n",
              "      <td>40</td>\n",
              "      <td>29</td>\n",
              "      <td>16</td>\n",
              "      <td>53</td>\n",
              "      <td>69</td>\n",
              "      <td>4</td>\n",
              "      <td>7</td>\n",
              "      <td>412</td>\n",
              "      <td>14</td>\n",
              "      <td>4</td>\n",
              "      <td>126</td>\n",
              "      <td>4</td>\n",
              "      <td>12</td>\n",
              "      <td>24</td>\n",
              "      <td>4</td>\n",
              "      <td>11</td>\n",
              "      <td>22</td>\n",
              "      <td>7</td>\n",
              "      <td>4</td>\n",
              "      <td>2</td>\n",
              "      <td>0</td>\n",
              "      <td>0</td>\n",
              "      <td>1</td>\n",
              "      <td>0</td>\n",
              "      <td>157</td>\n",
              "      <td>238</td>\n",
              "      <td>121</td>\n",
              "      <td>57</td>\n",
              "      <td>28</td>\n",
              "    </tr>\n",
              "    <tr>\n",
              "      <th>3</th>\n",
              "      <td>3326856598</td>\n",
              "      <td>1504348503996</td>\n",
              "      <td>1758</td>\n",
              "      <td>9</td>\n",
              "      <td>1</td>\n",
              "      <td>1</td>\n",
              "      <td>1</td>\n",
              "      <td>1</td>\n",
              "      <td>1</td>\n",
              "      <td>1</td>\n",
              "      <td>0</td>\n",
              "      <td>57</td>\n",
              "      <td>4</td>\n",
              "      <td>12</td>\n",
              "      <td>63</td>\n",
              "      <td>4</td>\n",
              "      <td>14</td>\n",
              "      <td>29</td>\n",
              "      <td>4</td>\n",
              "      <td>7</td>\n",
              "      <td>61</td>\n",
              "      <td>4</td>\n",
              "      <td>1</td>\n",
              "      <td>36</td>\n",
              "      <td>11</td>\n",
              "      <td>4</td>\n",
              "      <td>9</td>\n",
              "      <td>2</td>\n",
              "      <td>1</td>\n",
              "      <td>2</td>\n",
              "      <td>0</td>\n",
              "      <td>238</td>\n",
              "      <td>67</td>\n",
              "      <td>516</td>\n",
              "      <td>114</td>\n",
              "      <td>31</td>\n",
              "      <td>90</td>\n",
              "      <td>14</td>\n",
              "      <td>4</td>\n",
              "      <td>19</td>\n",
              "      <td>11</td>\n",
              "      <td>4</td>\n",
              "      <td>412</td>\n",
              "      <td>4</td>\n",
              "      <td>3</td>\n",
              "      <td>92</td>\n",
              "      <td>4</td>\n",
              "      <td>14</td>\n",
              "      <td>22</td>\n",
              "      <td>4</td>\n",
              "      <td>7</td>\n",
              "      <td>0</td>\n",
              "      <td>0</td>\n",
              "      <td>0</td>\n",
              "      <td>0</td>\n",
              "      <td>0</td>\n",
              "      <td>164</td>\n",
              "      <td>18</td>\n",
              "      <td>141</td>\n",
              "      <td>40</td>\n",
              "      <td>51</td>\n",
              "    </tr>\n",
              "    <tr>\n",
              "      <th>4</th>\n",
              "      <td>3330080762</td>\n",
              "      <td>1504554410899</td>\n",
              "      <td>2094</td>\n",
              "      <td>9</td>\n",
              "      <td>1</td>\n",
              "      <td>2</td>\n",
              "      <td>1</td>\n",
              "      <td>1</td>\n",
              "      <td>1</td>\n",
              "      <td>1</td>\n",
              "      <td>0</td>\n",
              "      <td>19</td>\n",
              "      <td>4</td>\n",
              "      <td>12</td>\n",
              "      <td>29</td>\n",
              "      <td>11</td>\n",
              "      <td>4</td>\n",
              "      <td>40</td>\n",
              "      <td>4</td>\n",
              "      <td>3</td>\n",
              "      <td>119</td>\n",
              "      <td>4</td>\n",
              "      <td>7</td>\n",
              "      <td>134</td>\n",
              "      <td>7</td>\n",
              "      <td>4</td>\n",
              "      <td>9</td>\n",
              "      <td>2</td>\n",
              "      <td>1</td>\n",
              "      <td>3</td>\n",
              "      <td>0</td>\n",
              "      <td>90</td>\n",
              "      <td>64</td>\n",
              "      <td>412</td>\n",
              "      <td>25</td>\n",
              "      <td>31</td>\n",
              "      <td>37</td>\n",
              "      <td>3</td>\n",
              "      <td>4</td>\n",
              "      <td>59</td>\n",
              "      <td>4</td>\n",
              "      <td>12</td>\n",
              "      <td>141</td>\n",
              "      <td>11</td>\n",
              "      <td>4</td>\n",
              "      <td>38</td>\n",
              "      <td>4</td>\n",
              "      <td>12</td>\n",
              "      <td>51</td>\n",
              "      <td>4</td>\n",
              "      <td>7</td>\n",
              "      <td>3</td>\n",
              "      <td>0</td>\n",
              "      <td>0</td>\n",
              "      <td>1</td>\n",
              "      <td>0</td>\n",
              "      <td>86</td>\n",
              "      <td>11</td>\n",
              "      <td>201</td>\n",
              "      <td>122</td>\n",
              "      <td>18</td>\n",
              "    </tr>\n",
              "  </tbody>\n",
              "</table>\n",
              "</div>"
            ],
            "text/plain": [
              "       gameId   creationTime  gameDuration  ...  t2_ban3  t2_ban4  t2_ban5\n",
              "0  3326086514  1504279457970          1949  ...       43       16       51\n",
              "1  3229566029  1497848803862          1851  ...      238       51      420\n",
              "2  3327363504  1504360103310          1493  ...      121       57       28\n",
              "3  3326856598  1504348503996          1758  ...      141       40       51\n",
              "4  3330080762  1504554410899          2094  ...      201      122       18\n",
              "\n",
              "[5 rows x 61 columns]"
            ]
          },
          "metadata": {
            "tags": []
          },
          "execution_count": 16
        }
      ]
    },
    {
      "cell_type": "markdown",
      "metadata": {
        "id": "LJ7O-XhJX0kQ"
      },
      "source": [
        "데이터의 행과 열의 갯수를 파악하라"
      ]
    },
    {
      "cell_type": "code",
      "metadata": {
        "colab": {
          "base_uri": "https://localhost:8080/"
        },
        "id": "UmcEdoZrX0Lv",
        "outputId": "5bb0df65-b493-4f87-e8db-279ece9e9a7c"
      },
      "source": [
        "print(df.shape)\n",
        "print('행:',df.shape[0])\n",
        "print('열:',df.shape[1])\n"
      ],
      "execution_count": 9,
      "outputs": [
        {
          "output_type": "stream",
          "text": [
            "(51490, 61)\n",
            "행: 51490\n",
            "열: 61\n"
          ],
          "name": "stdout"
        }
      ]
    },
    {
      "cell_type": "markdown",
      "metadata": {
        "id": "EcPrGD9-X6ZY"
      },
      "source": [
        "전체 컬럼을 출력하라"
      ]
    },
    {
      "cell_type": "code",
      "metadata": {
        "colab": {
          "base_uri": "https://localhost:8080/"
        },
        "id": "gPfzx2BjX7_o",
        "outputId": "e68aabbc-8932-438f-d081-d24531dc8c97"
      },
      "source": [
        "df.columns"
      ],
      "execution_count": 15,
      "outputs": [
        {
          "output_type": "execute_result",
          "data": {
            "text/plain": [
              "Index(['gameId', 'creationTime', 'gameDuration', 'seasonId', 'winner',\n",
              "       'firstBlood', 'firstTower', 'firstInhibitor', 'firstBaron',\n",
              "       'firstDragon', 'firstRiftHerald', 't1_champ1id', 't1_champ1_sum1',\n",
              "       't1_champ1_sum2', 't1_champ2id', 't1_champ2_sum1', 't1_champ2_sum2',\n",
              "       't1_champ3id', 't1_champ3_sum1', 't1_champ3_sum2', 't1_champ4id',\n",
              "       't1_champ4_sum1', 't1_champ4_sum2', 't1_champ5id', 't1_champ5_sum1',\n",
              "       't1_champ5_sum2', 't1_towerKills', 't1_inhibitorKills', 't1_baronKills',\n",
              "       't1_dragonKills', 't1_riftHeraldKills', 't1_ban1', 't1_ban2', 't1_ban3',\n",
              "       't1_ban4', 't1_ban5', 't2_champ1id', 't2_champ1_sum1', 't2_champ1_sum2',\n",
              "       't2_champ2id', 't2_champ2_sum1', 't2_champ2_sum2', 't2_champ3id',\n",
              "       't2_champ3_sum1', 't2_champ3_sum2', 't2_champ4id', 't2_champ4_sum1',\n",
              "       't2_champ4_sum2', 't2_champ5id', 't2_champ5_sum1', 't2_champ5_sum2',\n",
              "       't2_towerKills', 't2_inhibitorKills', 't2_baronKills', 't2_dragonKills',\n",
              "       't2_riftHeraldKills', 't2_ban1', 't2_ban2', 't2_ban3', 't2_ban4',\n",
              "       't2_ban5'],\n",
              "      dtype='object')"
            ]
          },
          "metadata": {
            "tags": []
          },
          "execution_count": 15
        }
      ]
    },
    {
      "cell_type": "markdown",
      "metadata": {
        "id": "6zytvRHPYBcR"
      },
      "source": [
        "6번째 컬럼을 출력하라"
      ]
    },
    {
      "cell_type": "code",
      "metadata": {
        "colab": {
          "base_uri": "https://localhost:8080/",
          "height": 35
        },
        "id": "lyd8F_PYX_zv",
        "outputId": "8c567372-e250-4e4e-bad6-edd65f1a61c2"
      },
      "source": [
        "df.columns[5]"
      ],
      "execution_count": 14,
      "outputs": [
        {
          "output_type": "execute_result",
          "data": {
            "application/vnd.google.colaboratory.intrinsic+json": {
              "type": "string"
            },
            "text/plain": [
              "'firstBlood'"
            ]
          },
          "metadata": {
            "tags": []
          },
          "execution_count": 14
        }
      ]
    },
    {
      "cell_type": "markdown",
      "metadata": {
        "id": "A8U5EiDNZ_nI"
      },
      "source": [
        "6번째 컬럼의 데이터 타입을 확인하라"
      ]
    },
    {
      "cell_type": "code",
      "metadata": {
        "colab": {
          "base_uri": "https://localhost:8080/"
        },
        "id": "VPY3tFhGaA55",
        "outputId": "f55999f7-aba8-49f1-cd6b-4d92182fa1e6"
      },
      "source": [
        "df.dtypes['firstBlood']"
      ],
      "execution_count": 13,
      "outputs": [
        {
          "output_type": "execute_result",
          "data": {
            "text/plain": [
              "dtype('int64')"
            ]
          },
          "metadata": {
            "tags": []
          },
          "execution_count": 13
        }
      ]
    },
    {
      "cell_type": "markdown",
      "metadata": {
        "id": "75kkKbbfaIcY"
      },
      "source": [
        "데이터셋의 인덱스 구성은 어떤가"
      ]
    },
    {
      "cell_type": "code",
      "metadata": {
        "colab": {
          "base_uri": "https://localhost:8080/"
        },
        "id": "b2xI59uBaJ2o",
        "outputId": "7f17b85f-ed06-4fa4-ca9d-088b69e17207"
      },
      "source": [
        "df.index"
      ],
      "execution_count": 17,
      "outputs": [
        {
          "output_type": "execute_result",
          "data": {
            "text/plain": [
              "RangeIndex(start=0, stop=51490, step=1)"
            ]
          },
          "metadata": {
            "tags": []
          },
          "execution_count": 17
        }
      ]
    },
    {
      "cell_type": "markdown",
      "metadata": {
        "id": "iTOaCdI5aN1g"
      },
      "source": [
        "6번째 컬럼의 3번째 값은 무엇인가?"
      ]
    },
    {
      "cell_type": "code",
      "metadata": {
        "colab": {
          "base_uri": "https://localhost:8080/",
          "height": 35
        },
        "id": "uYZvzjYbaOeY",
        "outputId": "8bd06bea-e381-4658-e119-6e3e11acd674"
      },
      "source": [
        "df.columns[5][2]"
      ],
      "execution_count": 20,
      "outputs": [
        {
          "output_type": "execute_result",
          "data": {
            "application/vnd.google.colaboratory.intrinsic+json": {
              "type": "string"
            },
            "text/plain": [
              "'r'"
            ]
          },
          "metadata": {
            "tags": []
          },
          "execution_count": 20
        }
      ]
    },
    {
      "cell_type": "markdown",
      "metadata": {
        "id": "TLs_Mk9oahZQ"
      },
      "source": [
        "\n",
        "\n",
        "---\n",
        "\n"
      ]
    }
  ]
}